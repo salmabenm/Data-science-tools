{
  "cells": [
    {
      "cell_type": "markdown",
      "metadata": {
        "id": "-p2x53msaauj"
      },
      "source": [
        "<h1>Data Science Tools and Ecosystem</h1>"
      ]
    },
    {
      "cell_type": "markdown",
      "metadata": {
        "id": "x-3bMzXNbi-6"
      },
      "source": [
        "In this notebook, Data Science Tools and Ecosystem are summarized\n"
      ]
    },
    {
      "cell_type": "markdown",
      "metadata": {
        "id": "ve1pJx-nh5kq"
      },
      "source": [
        "**Objectives:**\n",
        "  - Overview of popular programming languages.\n",
        "  - Exploration of widely used libraries in data science.\n",
        "  - Introduction to common development environments.\n",
        "  - Hands-on examples using Jupyter Notebooks and Python.\n",
        "  - Best practices for data science workflows."
      ]
    },
    {
      "cell_type": "markdown",
      "metadata": {
        "id": "unHoBC0ycBv2"
      },
      "source": [
        "Some of the popular languages that Data Scientists use are:\n",
        "1. Python\n",
        "2. R\n",
        "3. SQL"
      ]
    },
    {
      "cell_type": "markdown",
      "metadata": {
        "id": "Zoa7v4badhmw"
      },
      "source": [
        "Some of the commonly used libraries used by Data Scientists include :\n",
        "1. Pandas\n",
        "2. NumPy\n",
        "3. Scikit-learn"
      ]
    },
    {
      "cell_type": "markdown",
      "metadata": {
        "id": "pkHv0WN2d_wY"
      },
      "source": [
        "\n",
        "| Data Science Tools      |\n",
        "|-------------------------|\n",
        "| Jupyter Notebooks       |\n",
        "| RStudio                 |\n",
        "| VSCode with Python      |"
      ]
    },
    {
      "cell_type": "markdown",
      "metadata": {
        "id": "nFkTIzI7fEM5"
      },
      "source": [
        "<h3>Below are a few examples of evaluating arithmetic expressions in Python</h3>"
      ]
    },
    {
      "cell_type": "markdown",
      "metadata": {
        "id": "lCU1otPMfzhl"
      },
      "source": [
        "This a simple arithmetic expression to mutiply then add integers\n"
      ]
    },
    {
      "cell_type": "code",
      "execution_count": 1,
      "metadata": {
        "colab": {
          "base_uri": "https://localhost:8080/"
        },
        "id": "YtUzYbusf1MH",
        "outputId": "462f6b77-5ce9-49c7-824a-7bf3c29e6c84"
      },
      "outputs": [
        {
          "data": {
            "text/plain": [
              "17"
            ]
          },
          "execution_count": 1,
          "metadata": {},
          "output_type": "execute_result"
        }
      ],
      "source": [
        "(3*4)+5"
      ]
    },
    {
      "cell_type": "markdown",
      "metadata": {
        "id": "jtQtfMrVg1cN"
      },
      "source": [
        "This will convert 200 minutes to hours by diving by 60"
      ]
    },
    {
      "cell_type": "code",
      "execution_count": 3,
      "metadata": {
        "colab": {
          "base_uri": "https://localhost:8080/"
        },
        "id": "33M56Eucg2jW",
        "outputId": "3e598cf3-0362-4499-b88a-f8340393bab7"
      },
      "outputs": [
        {
          "data": {
            "text/plain": [
              "3.3333333333333335"
            ]
          },
          "execution_count": 3,
          "metadata": {},
          "output_type": "execute_result"
        }
      ],
      "source": [
        "minutes = 200\n",
        "hours = minutes / 60\n",
        "hours\n"
      ]
    },
    {
      "cell_type": "markdown",
      "metadata": {
        "id": "OUobNaybio7s"
      },
      "source": [
        "<h2>Author</h2>\n",
        "Salma BENMOUSSA"
      ]
    }
  ],
  "metadata": {
    "colab": {
      "provenance": []
    },
    "kernelspec": {
      "display_name": "Python 3",
      "name": "python3"
    },
    "language_info": {
      "name": "python"
    }
  },
  "nbformat": 4,
  "nbformat_minor": 0
}
